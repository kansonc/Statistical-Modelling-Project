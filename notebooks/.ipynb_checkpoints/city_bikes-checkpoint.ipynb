{
 "cells": [
  {
   "cell_type": "markdown",
   "metadata": {},
   "source": [
    "# CityBikes"
   ]
  },
  {
   "cell_type": "markdown",
   "metadata": {},
   "source": [
    "Send a request to CityBikes for the city of your choice. "
   ]
  },
  {
   "cell_type": "code",
   "execution_count": 233,
   "metadata": {},
   "outputs": [],
   "source": [
    "import requests\n",
    "import pandas as pd\n",
    "\n",
    "# Define the endpoint URL\n",
    "url = \"http://api.citybik.es/v2/networks\"\n",
    "\n",
    "# Optional: Define any parameters your request might need\n",
    "params = {}\n",
    "\n",
    "# Make the request\n",
    "response_all_api = requests.get(url, {})\n",
    "\n",
    "# Create dataframe to search for city\n",
    "networks_df = pd.DataFrame(response_all_api.json().get('networks',{}))\n",
    "\n",
    "# Define a search function (found online at https://saturncloud.io/blog/how-to-search-for-string-in-all-pandas-dataframe-columns-and-filter/)\n",
    "def search_string(s, search):\n",
    "    return search in str(s).lower()\n",
    "\n",
    "# Search for the string 'al' in all columns (found online at https://saturncloud.io/blog/how-to-search-for-string-in-all-pandas-dataframe-columns-and-filter/)\n",
    "mask = networks_df.applymap(lambda x: search_string(x, 'toronto'))\n",
    "\n",
    "# Filter the DataFrame based on the mask (found online at https://saturncloud.io/blog/how-to-search-for-string-in-all-pandas-dataframe-columns-and-filter/)\n",
    "filtered_df = networks_df.loc[mask.any(axis=1)]\n",
    "\n",
    "# Define the Citybikes API endpoint for Toronto\n",
    "toronto_url = \"http://api.citybik.es\"+toronto_url_1[filtered_df.index.values[0]]['href']\n",
    "\n",
    "# Send a GET request to get bike station data for Toronto\n",
    "response_toronto_api = requests.get(toronto_url)\n",
    "\n",
    "if response_toronto_api.status_code == 200:\n",
    "    # city_data = response_toronto_api.json().get(\"network\", {})\n",
    "    stations = response_toronto_api.json().get(\"network\", {}).get(\"stations\", [])\n",
    "    \n",
    "    # if stations:\n",
    "    #     print(\"Bike Stations in Toronto:\\n\")\n",
    "    #     for station in stations:\n",
    "    #                 print(f\"Station Name: {station['name']}\")\n",
    "    #                 print(f\"Available Bikes: {station['free_bikes']}\")\n",
    "    #                 print(f\"Empty Docks: {station['empty_slots']}\")\n",
    "    #                 print(\"\\n\")\n",
    "    # else:\n",
    "    #     print(\"No bike stations found for Toronto.\")\n",
    "else:\n",
    "    print(\"Failed to retrieve data from the Citybikes API.\")\n",
    "\n",
    "# Create Pandas df of all stations in Toronto\n",
    "stations_toronto_df = pd.DataFrame(stations)"
   ]
  },
  {
   "cell_type": "markdown",
   "metadata": {},
   "source": [
    "Parse through the response to get the details you want for the bike stations in that city (latitude, longitude, number of bikes). "
   ]
  },
  {
   "cell_type": "code",
   "execution_count": 231,
   "metadata": {},
   "outputs": [
    {
     "data": {
      "text/html": [
       "<div>\n",
       "<style scoped>\n",
       "    .dataframe tbody tr th:only-of-type {\n",
       "        vertical-align: middle;\n",
       "    }\n",
       "\n",
       "    .dataframe tbody tr th {\n",
       "        vertical-align: top;\n",
       "    }\n",
       "\n",
       "    .dataframe thead th {\n",
       "        text-align: right;\n",
       "    }\n",
       "</style>\n",
       "<table border=\"1\" class=\"dataframe\">\n",
       "  <thead>\n",
       "    <tr style=\"text-align: right;\">\n",
       "      <th></th>\n",
       "      <th>free_bikes</th>\n",
       "      <th>longitude</th>\n",
       "      <th>latitude</th>\n",
       "    </tr>\n",
       "  </thead>\n",
       "  <tbody>\n",
       "    <tr>\n",
       "      <th>0</th>\n",
       "      <td>16</td>\n",
       "      <td>-79.319796</td>\n",
       "      <td>43.665269</td>\n",
       "    </tr>\n",
       "    <tr>\n",
       "      <th>1</th>\n",
       "      <td>0</td>\n",
       "      <td>-79.445947</td>\n",
       "      <td>43.671420</td>\n",
       "    </tr>\n",
       "    <tr>\n",
       "      <th>2</th>\n",
       "      <td>23</td>\n",
       "      <td>-79.317693</td>\n",
       "      <td>43.666224</td>\n",
       "    </tr>\n",
       "    <tr>\n",
       "      <th>3</th>\n",
       "      <td>23</td>\n",
       "      <td>-79.376716</td>\n",
       "      <td>43.653236</td>\n",
       "    </tr>\n",
       "    <tr>\n",
       "      <th>4</th>\n",
       "      <td>2</td>\n",
       "      <td>-79.380288</td>\n",
       "      <td>43.663722</td>\n",
       "    </tr>\n",
       "    <tr>\n",
       "      <th>...</th>\n",
       "      <td>...</td>\n",
       "      <td>...</td>\n",
       "      <td>...</td>\n",
       "    </tr>\n",
       "    <tr>\n",
       "      <th>700</th>\n",
       "      <td>2</td>\n",
       "      <td>-79.299616</td>\n",
       "      <td>43.717679</td>\n",
       "    </tr>\n",
       "    <tr>\n",
       "      <th>701</th>\n",
       "      <td>0</td>\n",
       "      <td>-79.395378</td>\n",
       "      <td>43.660387</td>\n",
       "    </tr>\n",
       "    <tr>\n",
       "      <th>702</th>\n",
       "      <td>0</td>\n",
       "      <td>-79.418771</td>\n",
       "      <td>43.635201</td>\n",
       "    </tr>\n",
       "    <tr>\n",
       "      <th>703</th>\n",
       "      <td>1</td>\n",
       "      <td>-79.414363</td>\n",
       "      <td>43.633352</td>\n",
       "    </tr>\n",
       "    <tr>\n",
       "      <th>704</th>\n",
       "      <td>36</td>\n",
       "      <td>-79.408832</td>\n",
       "      <td>43.636804</td>\n",
       "    </tr>\n",
       "  </tbody>\n",
       "</table>\n",
       "<p>705 rows × 3 columns</p>\n",
       "</div>"
      ],
      "text/plain": [
       "     free_bikes  longitude   latitude\n",
       "0            16 -79.319796  43.665269\n",
       "1             0 -79.445947  43.671420\n",
       "2            23 -79.317693  43.666224\n",
       "3            23 -79.376716  43.653236\n",
       "4             2 -79.380288  43.663722\n",
       "..          ...        ...        ...\n",
       "700           2 -79.299616  43.717679\n",
       "701           0 -79.395378  43.660387\n",
       "702           0 -79.418771  43.635201\n",
       "703           1 -79.414363  43.633352\n",
       "704          36 -79.408832  43.636804\n",
       "\n",
       "[705 rows x 3 columns]"
      ]
     },
     "execution_count": 231,
     "metadata": {},
     "output_type": "execute_result"
    }
   ],
   "source": [
    "# Filter the dataframe to only                                 \n",
    "stations_toronto_df_filtered = stations_toronto_df[['free_bikes','longitude', 'latitude']]\n",
    "\n",
    "stations_toronto_df_filtered"
   ]
  },
  {
   "cell_type": "markdown",
   "metadata": {},
   "source": [
    "Put your parsed results into a DataFrame."
   ]
  },
  {
   "cell_type": "code",
   "execution_count": null,
   "metadata": {},
   "outputs": [],
   "source": []
  }
 ],
 "metadata": {
  "kernelspec": {
   "display_name": "Python 3 (ipykernel)",
   "language": "python",
   "name": "python3"
  },
  "language_info": {
   "codemirror_mode": {
    "name": "ipython",
    "version": 3
   },
   "file_extension": ".py",
   "mimetype": "text/x-python",
   "name": "python",
   "nbconvert_exporter": "python",
   "pygments_lexer": "ipython3",
   "version": "3.8.13"
  }
 },
 "nbformat": 4,
 "nbformat_minor": 4
}
