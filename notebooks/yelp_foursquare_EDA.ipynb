{
 "cells": [
  {
   "cell_type": "code",
   "execution_count": 4,
   "metadata": {},
   "outputs": [],
   "source": [
    "# imports\n",
    "import requests\n",
    "import os\n",
    "import pandas as pd\n",
    "import json  \n"
   ]
  },
  {
   "cell_type": "markdown",
   "metadata": {},
   "source": [
    "# Foursquare"
   ]
  },
  {
   "cell_type": "markdown",
   "metadata": {},
   "source": [
    "Send a request to Foursquare with a small radius (1000m) for all the bike stations in your city of choice. "
   ]
  },
  {
   "cell_type": "code",
   "execution_count": 6,
   "metadata": {},
   "outputs": [],
   "source": [
    "# Assign Environment Variables\n",
    "client_id = os.environ[\"FOURSQUARE_CLIENT_ID\"]\n",
    "client_secret = os.environ[\"FOURSQUARE_SECRET_CLIENT_ID\"]\n",
    "api_key = os.environ[\"FOURSQUARE_API_KEY\"]\n",
    "\n",
    "# Define the endpoint URL\n",
    "url = \"https://api.foursquare.com/v3/places/search\"\n",
    "\n",
    "# Create an empty list to store the results\n",
    "results_restaurant = []\n",
    "results_bar = []\n",
    "results_art = []\n",
    "\n",
    "# import city_bikes list of latitude and longitude\n",
    "bike_stations_toronto = pd.read_csv(r'C:\\Users\\akans\\Documents\\Kierans_Documents\\LHL\\Statistical-Modelling-Project\\data\\bike_stations_toronto.csv')\n",
    "\n",
    "# Define Headers for the API requests\n",
    "headers = {\n",
    "\"Accept\": \"application/json\",\n",
    "\"Authorization\": api_key\n",
    "}   \n",
    "\n",
    "# Iterate through the DataFrame rows\n",
    "for index, row in bike_stations_toronto.iterrows():\n",
    "    latitude = row['latitude']\n",
    "    longitude = row['longitude']\n",
    "\n",
    "    # Define parameters for the API request for this location query: restaurant\n",
    "    params_restaurant = {\n",
    "        'll': f'{latitude},{longitude}',\n",
    "        'radius': 1000,\n",
    "        'query': 'restaurant'\n",
    "    }\n",
    "\n",
    "    # Get requests for params_restaurant\n",
    "    response_restaurant = requests.get(url, params=params_restaurant, headers=headers)\n",
    "\n",
    "    # Check the response status code and add values to results list if exists\n",
    "    if response_restaurant.status_code == 200:\n",
    "        try: \n",
    "            data_restaurant = response_restaurant.json()\n",
    "            results_restaurant.append(data_restaurant)\n",
    "        except json.JSONDecodeError: pass\n",
    "\n",
    "    # Define parameters for the API request for this location query: bar\n",
    "    params_bar = {\n",
    "        'll': f'{latitude},{longitude}',\n",
    "        'radius': 1000,\n",
    "        'query': 'bar'\n",
    "    }\n",
    "\n",
    "    # Get requests for params_bar\n",
    "    response_bar = requests.get(url, params=params_bar, headers=headers)\n",
    "\n",
    "    # Check the response status code and add values to results list if exists\n",
    "    if response_bar.status_code == 200:\n",
    "        try: \n",
    "            data_bar = response_bar.json()\n",
    "            results_bar.append(data_bar)\n",
    "        except json.JSONDecodeError: pass\n",
    "\n",
    "    # Define parameters for the API request for this location query: performing arts venue\n",
    "    params_art = {\n",
    "        'll': f'{latitude},{longitude}',\n",
    "        'radius': 1000,\n",
    "        'query': 'Performing Arts Venue'\n",
    "    }\n",
    "\n",
    "    # Get requests for params_art\n",
    "    response_art = requests.get(url, params=params_art, headers=headers)\n",
    "    \n",
    "    # Check the response status code and add values to results list if exists\n",
    "    if response_art.status_code == 200:\n",
    "        try: \n",
    "            data_art = response_art.json()\n",
    "            results_art.append(data_art)\n",
    "        except json.JSONDecodeError: pass            \n",
    "\n"
   ]
  },
  {
   "cell_type": "markdown",
   "metadata": {},
   "source": [
    "Parse through the response to get the POI (such as restaurants, bars, etc) details you want (ratings, name, location, etc)\n",
    "Put your parsed results into a DataFrame"
   ]
  },
  {
   "cell_type": "code",
   "execution_count": 101,
   "metadata": {},
   "outputs": [],
   "source": [
    "# Stage an empty dataframe\n",
    "normalize_results_foursquare_df = pd.DataFrame(columns= ['name','distance', 'latitude', 'longitude', 'api', 'query'])\n",
    "\n",
    "def normalize_results_foursquare (results_list, query):\n",
    "  \"\"\"\n",
    "  Function to return the query results from foursquare (in list format) from the json hierarchy to a flattened dataframe, \n",
    "  retaining the desired values only, \n",
    "  and appending them to the normalize_results_foursquare_df\n",
    "  \"\"\"\n",
    "  global normalize_results_foursquare_df\n",
    "\n",
    "  # Iterate through each of the results of the query\n",
    "  for indx_all_addresses_at_bike_station in range(len(results_list)):\n",
    "\n",
    "    # Create dataframe of context information\n",
    "    results_list_indx_context_df = pd.DataFrame()\n",
    "\n",
    "    # Extract API request parameters within context\n",
    "    context_latitude =    results_list[indx_all_addresses_at_bike_station]['context']['geo_bounds']['circle']['center']['latitude']\n",
    "    context_longitude =   results_list[indx_all_addresses_at_bike_station]['context']['geo_bounds']['circle']['center']['longitude']\n",
    "    context_radius =      results_list[indx_all_addresses_at_bike_station]['context']['geo_bounds']['circle']['radius']\n",
    "\n",
    "    for indx_single_address_at_bike_station in range(len(results_list[indx_all_addresses_at_bike_station]['results'])):\n",
    "\n",
    "      # Create a DataFrame matching the length of the results dictionary\n",
    "      results_list_indx_dict = {\n",
    "        'name':             [results_list[indx_all_addresses_at_bike_station]['results'][indx_single_address_at_bike_station]['name']], \n",
    "        'distance':         [results_list[indx_all_addresses_at_bike_station]['results'][indx_single_address_at_bike_station]['distance']],\n",
    "        'latitude':         [context_latitude], \n",
    "        'longitude':        [context_longitude], \n",
    "        'api':              'foursquare',\n",
    "        'query':            [query]\n",
    "      }\n",
    "      results_list_indx_df = pd.DataFrame(results_list_indx_dict)\n",
    "\n",
    "      # Append to \n",
    "      normalize_results_foursquare_df = normalize_results_foursquare_df.append(results_list_indx_df, ignore_index=True)\n"
   ]
  },
  {
   "cell_type": "code",
   "execution_count": 80,
   "metadata": {},
   "outputs": [],
   "source": [
    "# Run the normalized results\n",
    "normalize_results_foursquare (results_bar, 'bar')\n",
    "normalize_results_foursquare (results_art, 'art')\n",
    "normalize_results_foursquare (results_restaurant, 'restaurant')\n",
    "normalize_results_foursquare_df.to_csv(r'C:\\Users\\akans\\Documents\\Kierans_Documents\\LHL\\Statistical-Modelling-Project\\data\\results_four.csv')"
   ]
  },
  {
   "cell_type": "markdown",
   "metadata": {},
   "source": [
    "# Yelp"
   ]
  },
  {
   "cell_type": "markdown",
   "metadata": {},
   "source": [
    "Send a request to Yelp with a small radius (1000m) for all the bike stations in your city of choice. "
   ]
  },
  {
   "cell_type": "code",
   "execution_count": 81,
   "metadata": {},
   "outputs": [],
   "source": [
    "# Assign Environment Variables\n",
    "client_id = os.environ[\"YELP_CLIENT_ID\"]\n",
    "api_key = os.environ[\"YELP_API_KEY\"]\n",
    "\n",
    "# Define the endpoint URL\n",
    "url = \"https://api.yelp.com/v3/businesses/search\"\n",
    "\n",
    "# Create an empty list to store the results\n",
    "results_yelp_restaurant = []\n",
    "results_yelp_bar = []\n",
    "results_yelp_art = []\n",
    "\n",
    "# import city_bikes list of latitude and longitude\n",
    "bike_stations_toronto = pd.read_csv(r'C:\\Users\\akans\\Documents\\Kierans_Documents\\LHL\\Statistical-Modelling-Project\\data\\bike_stations_toronto.csv')\n",
    "\n",
    "# Define Headers for the API requests\n",
    "headers = {\n",
    "    'Authorization': f'Bearer {api_key}',\n",
    "}\n",
    "\n",
    "\n",
    "# Iterate through the DataFrame rows\n",
    "for index, row in bike_stations_toronto.iterrows():\n",
    "    latitude = row['latitude']\n",
    "    longitude = row['longitude']\n",
    "\n",
    "    # Define parameters for the API request for this location query: restaurant\n",
    "    params_restaurant = {\n",
    "        'latitude': latitude,\n",
    "        'longitude': longitude,\n",
    "        'radius': 1000,\n",
    "        'term': 'restaurant'\n",
    "    }\n",
    "\n",
    "    # Get requests for params_restaurant\n",
    "    response_yelp_restaurant = requests.get(url, params=params_restaurant, headers=headers)\n",
    "\n",
    "    # Check the response status code and add values to results list if exists\n",
    "    if response_yelp_restaurant.status_code == 200:\n",
    "        try: \n",
    "            data_restaurant = response_yelp_restaurant.json()\n",
    "            results_yelp_restaurant.append(data_restaurant)\n",
    "        except json.JSONDecodeError: pass\n",
    "\n",
    "    # Define parameters for the API request for this location query: bar\n",
    "    params_bar = {\n",
    "        'latitude': latitude,\n",
    "        'longitude': longitude,\n",
    "        'radius': 1000,\n",
    "        'term': 'bar'\n",
    "    }\n",
    "\n",
    "    # Get requests for params_bar\n",
    "    response_yelp_bar = requests.get(url, params=params_bar, headers=headers)\n",
    "\n",
    "    # Check the response status code and add values to results list if exists\n",
    "    if response_yelp_bar.status_code == 200:\n",
    "        try: \n",
    "            data_bar = response_yelp_bar.json()\n",
    "            results_yelp_bar.append(data_bar)\n",
    "        except json.JSONDecodeError: pass\n",
    "\n",
    "    # Define parameters for the API request for this location query: performing arts venue\n",
    "    results_yelp_art = {\n",
    "        'latitude': latitude,\n",
    "        'longitude': longitude,\n",
    "        'radius': 1000,\n",
    "        'term': 'Performing Arts Venue'\n",
    "    }\n",
    "\n",
    "    # Get requests for params_art\n",
    "    response_yelp_art = requests.get(url, params=params_art, headers=headers)\n",
    "    \n",
    "    # Check the response status code and add values to results list if exists\n",
    "    if response_yelp_art.status_code == 200:\n",
    "        try: \n",
    "            data_art = response_yelp_art.json()\n",
    "            results_yelp_art.append(data_art)\n",
    "        except json.JSONDecodeError: pass            "
   ]
  },
  {
   "cell_type": "markdown",
   "metadata": {},
   "source": [
    "Ran out of requests for APIs from yelp.  Could only retrieve 500 from the \"restaurant\" request."
   ]
  },
  {
   "cell_type": "markdown",
   "metadata": {},
   "source": [
    "Parse through the response to get the POI (such as restaurants, bars, etc) details you want (ratings, name, location, etc)"
   ]
  },
  {
   "cell_type": "code",
   "execution_count": 112,
   "metadata": {},
   "outputs": [],
   "source": [
    "normalize_results_yelp_df = pd.DataFrame(columns= ['name','rating','review_count',\n",
    "  'distance', 'latitude', 'longitude', 'total','api', 'query']\n",
    ")\n",
    "\n",
    "def normalize_results_yelp (results_list, query):\n",
    "  \"\"\"\n",
    "  Function to return the query results from yelp (in list format) from the json hierarchy to a flattened dataframe, \n",
    "  retaining the desired values only, \n",
    "  and appending them to the normalize_results_yelp_df\n",
    "  \"\"\"\n",
    "  global normalize_results_yelp_df\n",
    "\n",
    "  # Iterate through each of the results of the query\n",
    "  for indx_all_addresses_at_bike_station in range(len(results_list)):\n",
    "\n",
    "    # Extract API request parameters within region\n",
    "    region_latitude =   results_list[indx_all_addresses_at_bike_station]['region']['center']['latitude']\n",
    "    region_longitude =  results_list[indx_all_addresses_at_bike_station]['region']['center']['longitude']\n",
    "    total_businesses =  results_list[indx_all_addresses_at_bike_station]['total']\n",
    "\n",
    "    for indx_single_address_at_bike_station in range(len(results_list[indx_all_addresses_at_bike_station]['businesses'])):\n",
    "\n",
    "      # Create a DataFrame matching the length of the results dictionary\n",
    "      results_list_indx_dict = {\n",
    "        'name':             [results_list[indx_all_addresses_at_bike_station]['businesses'][indx_single_address_at_bike_station]['name']], \n",
    "        'rating':           [results_list[indx_all_addresses_at_bike_station]['businesses'][indx_single_address_at_bike_station]['rating']],\n",
    "        'review_count':     [results_list[indx_all_addresses_at_bike_station]['businesses'][indx_single_address_at_bike_station]['review_count']],\n",
    "        'distance':         [results_list[indx_all_addresses_at_bike_station]['businesses'][indx_single_address_at_bike_station]['distance']],\n",
    "        'latitude':         [region_latitude], \n",
    "        'longitude':        [region_longitude], \n",
    "        'total':            [total_businesses],\n",
    "        'api':              'yelp',\n",
    "        'query':            [query]\n",
    "      }\n",
    "      results_list_indx_df = pd.DataFrame(results_list_indx_dict)\n",
    "\n",
    "      # Append to \n",
    "      normalize_results_yelp_df = normalize_results_yelp_df.append(results_list_indx_df, ignore_index=True)"
   ]
  },
  {
   "cell_type": "markdown",
   "metadata": {},
   "source": [
    "Put your parsed results into a DataFrame"
   ]
  },
  {
   "cell_type": "code",
   "execution_count": null,
   "metadata": {},
   "outputs": [],
   "source": [
    "# Run the normalized results, would have done the first two below but ran out of API requests\n",
    "# normalize_results_yelp (results_yelp_bar, 'bar')\n",
    "# normalize_results_yelp (results_yelp_art, 'art')\n",
    "normalize_results_yelp (results_yelp_restaurant, 'restaurant')\n",
    "normalize_results_yelp_df.to_csv(r'C:\\Users\\akans\\Documents\\Kierans_Documents\\LHL\\Statistical-Modelling-Project\\data\\results_yelp.csv')"
   ]
  },
  {
   "cell_type": "markdown",
   "metadata": {},
   "source": [
    "# Comparing Results"
   ]
  },
  {
   "cell_type": "markdown",
   "metadata": {},
   "source": [
    "Which API provided you with more complete data? Provide an explanation. "
   ]
  },
  {
   "cell_type": "markdown",
   "metadata": {},
   "source": [
    "The Yelp data is preferred.  Not only are there more results per bike station, there are a few more key quantitative variables that can be best used for modelling, such as review_count and rating."
   ]
  },
  {
   "cell_type": "markdown",
   "metadata": {},
   "source": [
    "Get the top 10 restaurants according to their rating"
   ]
  },
  {
   "cell_type": "code",
   "execution_count": 120,
   "metadata": {},
   "outputs": [
    {
     "name": "stdout",
     "output_type": "stream",
     "text": [
      "                     name  rating review_count    distance   latitude  \\\n",
      "3085    Galata Restaurant     5.0           12  669.434635  43.678401   \n",
      "1506     Ladybug Wine Bar     5.0            3  638.023590  43.651318   \n",
      "190     Grandma Loves You     5.0           76  588.720010  43.674991   \n",
      "2926          Rikki Tikki     5.0           27  471.404303  43.657100   \n",
      "304         East End Vine     5.0            3   55.437143  43.667214   \n",
      "3034             Judaline     5.0            5   71.492205  43.677076   \n",
      "704           Rikki Tikki     5.0           27  843.493091  43.661667   \n",
      "2316           SeoulChild     5.0            1  671.997547  43.659575   \n",
      "3069              Papyrus     5.0           52  579.919690  43.678401   \n",
      "3196  Mapo Pocha Soju Bar     5.0            3  767.219603  43.661705   \n",
      "\n",
      "      longitude total   api       query  dense_rank  \n",
      "3085 -79.346289   169  yelp  restaurant         1.0  \n",
      "1506 -79.360230   194  yelp  restaurant         1.0  \n",
      "190  -79.396273   300  yelp  restaurant         1.0  \n",
      "2926 -79.405600   696  yelp  restaurant         1.0  \n",
      "304  -79.345270   145  yelp  restaurant         1.0  \n",
      "3034 -79.356670   117  yelp  restaurant         1.0  \n",
      "704  -79.401389   636  yelp  restaurant         1.0  \n",
      "2316 -79.365769   252  yelp  restaurant         1.0  \n",
      "3069 -79.346289   169  yelp  restaurant         1.0  \n",
      "3196 -79.425734   278  yelp  restaurant         1.0  \n",
      "                        name  rating review_count    distance   latitude  \\\n",
      "11               Mattachioni     5.0            4  815.148564  43.665269   \n",
      "30    Brasa Peruvian Kitchen     5.0            8  720.497241  43.671420   \n",
      "39                     BSTO.     5.0            1  647.798373  43.671420   \n",
      "51               Mattachioni     5.0            4  728.470000  43.666224   \n",
      "66          Haidilao Hot Pot     5.0           34  295.392655  43.653236   \n",
      "...                      ...     ...          ...         ...        ...   \n",
      "3242               Masa Deli     5.0            1  199.656492  43.665327   \n",
      "3281       Ditta Artigianale     5.0            4  168.115179  43.645324   \n",
      "3291         Old Town Bodega     5.0            9  439.728118  43.650256   \n",
      "3292              SeoulChild     5.0            1  561.817493  43.650256   \n",
      "3300        Ladybug Wine Bar     5.0            3  792.965307  43.650256   \n",
      "\n",
      "      longitude total   api       query  dense_rank  \n",
      "11   -79.319796    91  yelp  restaurant         1.0  \n",
      "30   -79.445947   137  yelp  restaurant         1.0  \n",
      "39   -79.445947   137  yelp  restaurant         1.0  \n",
      "51   -79.317693    83  yelp  restaurant         1.0  \n",
      "66   -79.376716  1100  yelp  restaurant         1.0  \n",
      "...         ...   ...   ...         ...         ...  \n",
      "3242 -79.432350   156  yelp  restaurant         1.0  \n",
      "3281 -79.403450   549  yelp  restaurant         1.0  \n",
      "3291 -79.361630   199  yelp  restaurant         1.0  \n",
      "3292 -79.361630   199  yelp  restaurant         1.0  \n",
      "3300 -79.361630   199  yelp  restaurant         1.0  \n",
      "\n",
      "[263 rows x 10 columns]\n"
     ]
    }
   ],
   "source": [
    "# If you are defining the top 10 solely by rating, there are more than 10 with a rating of 5.0.\n",
    "print(normalize_results_yelp_df.sort_values(by='rating', ascending=False).head(10))\n",
    "\n",
    "# If you are defining the top restaurants by rating (5.0 rating)\n",
    "print(normalize_results_yelp_df[normalize_results_yelp_df['rating']==5.0])"
   ]
  }
 ],
 "metadata": {
  "kernelspec": {
   "display_name": "Python 3",
   "language": "python",
   "name": "python3"
  },
  "language_info": {
   "codemirror_mode": {
    "name": "ipython",
    "version": 3
   },
   "file_extension": ".py",
   "mimetype": "text/x-python",
   "name": "python",
   "nbconvert_exporter": "python",
   "pygments_lexer": "ipython3",
   "version": "3.8.13"
  }
 },
 "nbformat": 4,
 "nbformat_minor": 4
}
