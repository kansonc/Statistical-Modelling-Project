{
 "cells": [
  {
   "cell_type": "markdown",
   "metadata": {},
   "source": [
    "# CityBikes"
   ]
  },
  {
   "cell_type": "markdown",
   "metadata": {},
   "source": [
    "Send a request to CityBikes for the city of your choice. "
   ]
  },
  {
   "cell_type": "code",
   "execution_count": 2,
   "metadata": {},
   "outputs": [],
   "source": [
    "import requests\n",
    "import pandas as pd\n",
    "\n",
    "# Define the endpoint URL\n",
    "url = \"http://api.citybik.es/v2/networks\"\n",
    "\n",
    "# Optional: Define any parameters your request might need\n",
    "params = {}\n",
    "\n",
    "# Make the request\n",
    "response_all_api = requests.get(url, {})\n",
    "\n",
    "# Create dataframe to search for city\n",
    "networks_df = pd.DataFrame(response_all_api.json().get('networks',{}))\n",
    "\n",
    "# Define a search function (found online at https://saturncloud.io/blog/how-to-search-for-string-in-all-pandas-dataframe-columns-and-filter/)\n",
    "def search_string(s, search):\n",
    "    return search in str(s).lower()\n",
    "\n",
    "# Search for the string 'al' in all columns (found online at https://saturncloud.io/blog/how-to-search-for-string-in-all-pandas-dataframe-columns-and-filter/)\n",
    "mask = networks_df.applymap(lambda x: search_string(x, 'toronto'))\n",
    "\n",
    "# Filter the DataFrame based on the mask (found online at https://saturncloud.io/blog/how-to-search-for-string-in-all-pandas-dataframe-columns-and-filter/)\n",
    "filtered_df = networks_df.loc[mask.any(axis=1)]\n",
    "\n",
    "# Define the Citybikes API endpoint for Toronto\n",
    "toronto_url = \"http://api.citybik.es\"+networks_df.iloc[filtered_df.index.values[0]]['href']\n",
    "\n",
    "# Send a GET request to get bike station data for Toronto\n",
    "response_toronto_api = requests.get(toronto_url)\n",
    "\n",
    "if response_toronto_api.status_code == 200:\n",
    "    # city_data = response_toronto_api.json().get(\"network\", {})\n",
    "    stations = response_toronto_api.json().get(\"network\", {}).get(\"stations\", [])\n",
    "    \n",
    "    # if stations:\n",
    "    #     print(\"Bike Stations in Toronto:\\n\")\n",
    "    #     for station in stations:\n",
    "    #                 print(f\"Station Name: {station['name']}\")\n",
    "    #                 print(f\"Available Bikes: {station['free_bikes']}\")\n",
    "    #                 print(f\"Empty Docks: {station['empty_slots']}\")\n",
    "    #                 print(\"\\n\")\n",
    "    # else:\n",
    "    #     print(\"No bike stations found for Toronto.\")\n",
    "else:\n",
    "    print(\"Failed to retrieve data from the Citybikes API.\")"
   ]
  },
  {
   "cell_type": "markdown",
   "metadata": {},
   "source": [
    "Put your parsed results into a DataFrame."
   ]
  },
  {
   "cell_type": "code",
   "execution_count": 3,
   "metadata": {},
   "outputs": [],
   "source": [
    "# Create Pandas df of all stations in Toronto\n",
    "stations_toronto_df = pd.DataFrame(stations)"
   ]
  },
  {
   "cell_type": "markdown",
   "metadata": {},
   "source": [
    "Parse through the response to get the details you want for the bike stations in that city (latitude, longitude, number of bikes). "
   ]
  },
  {
   "cell_type": "code",
   "execution_count": 4,
   "metadata": {},
   "outputs": [],
   "source": [
    "# Filter the dataframe to only                                 \n",
    "stations_toronto_df_filtered = stations_toronto_df[['free_bikes','longitude', 'latitude']]\n",
    "\n",
    "# Save a csv\n",
    "stations_toronto_df_filtered.to_csv(r'C:\\Users\\akans\\Documents\\Kierans_Documents\\LHL\\Statistical-Modelling-Project\\data\\bike_stations_toronto.csv', index=False)"
   ]
  }
 ],
 "metadata": {
  "kernelspec": {
   "display_name": "base",
   "language": "python",
   "name": "python3"
  },
  "language_info": {
   "codemirror_mode": {
    "name": "ipython",
    "version": 3
   },
   "file_extension": ".py",
   "mimetype": "text/x-python",
   "name": "python",
   "nbconvert_exporter": "python",
   "pygments_lexer": "ipython3",
   "version": "3.8.13"
  }
 },
 "nbformat": 4,
 "nbformat_minor": 4
}
