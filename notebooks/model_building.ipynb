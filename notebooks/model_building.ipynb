{
 "cells": [
  {
   "cell_type": "code",
   "execution_count": 19,
   "metadata": {},
   "outputs": [],
   "source": [
    "# Imports\n",
    "import statsmodels.api as sm\n",
    "from sklearn import linear_model\n",
    "import pandas as pd\n",
    "import seaborn as sns\n",
    "import matplotlib.pyplot as plt\n",
    "\n",
    "# Data Import\n",
    "results_yelp_clean = pd.read_csv(r'C:\\Users\\akans\\Documents\\Kierans_Documents\\LHL\\Statistical-Modelling-Project\\data\\results_yelp_clean.csv')\n",
    "results_yelp_clean = results_yelp_clean.drop(columns=['Unnamed: 0', 'total'])\n",
    "results_yelp_clean = pd.DataFrame(results_yelp_clean)"
   ]
  },
  {
   "cell_type": "markdown",
   "metadata": {},
   "source": [
    "Build a regression model."
   ]
  },
  {
   "cell_type": "code",
   "execution_count": 20,
   "metadata": {},
   "outputs": [
    {
     "name": "stdout",
     "output_type": "stream",
     "text": [
      "                            OLS Regression Results                            \n",
      "==============================================================================\n",
      "Dep. Variable:             free_bikes   R-squared:                       0.005\n",
      "Model:                            OLS   Adj. R-squared:                  0.004\n",
      "Method:                 Least Squares   F-statistic:                     3.477\n",
      "Date:                Tue, 03 Oct 2023   Prob (F-statistic):             0.0154\n",
      "Time:                        06:45:47   Log-Likelihood:                -6396.6\n",
      "No. Observations:                1983   AIC:                         1.280e+04\n",
      "Df Residuals:                    1979   BIC:                         1.282e+04\n",
      "Df Model:                           3                                         \n",
      "Covariance Type:            nonrobust                                         \n",
      "================================================================================\n",
      "                   coef    std err          t      P>|t|      [0.025      0.975]\n",
      "--------------------------------------------------------------------------------\n",
      "const            3.8270      1.519      2.520      0.012       0.849       6.805\n",
      "rating           0.4593      0.354      1.298      0.194      -0.234       1.153\n",
      "review_count    -0.0005      0.002     -0.339      0.735      -0.004       0.003\n",
      "distance         0.0014      0.001      2.650      0.008       0.000       0.002\n",
      "==============================================================================\n",
      "Omnibus:                      248.726   Durbin-Watson:                   0.130\n",
      "Prob(Omnibus):                  0.000   Jarque-Bera (JB):              351.087\n",
      "Skew:                           1.028   Prob(JB):                     5.79e-77\n",
      "Kurtosis:                       3.143   Cond. No.                     6.51e+03\n",
      "==============================================================================\n",
      "\n",
      "Notes:\n",
      "[1] Standard Errors assume that the covariance matrix of the errors is correctly specified.\n",
      "[2] The condition number is large, 6.51e+03. This might indicate that there are\n",
      "strong multicollinearity or other numerical problems.\n"
     ]
    }
   ],
   "source": [
    "# Define Variables\n",
    "X = results_yelp_clean.drop(columns='free_bikes')\n",
    "Y = pd.Series(results_yelp_clean['free_bikes'])\n",
    "\n",
    "# Build and Fit the multiple linear regression model\n",
    "X = sm.add_constant(X)\n",
    "lin_reg = sm.OLS(Y,X).fit()\n",
    "\n",
    "# Print the model summary\n",
    "print(lin_reg.summary())"
   ]
  },
  {
   "cell_type": "markdown",
   "metadata": {},
   "source": [
    "Provide model output and an interpretation of the results. "
   ]
  },
  {
   "cell_type": "markdown",
   "metadata": {},
   "source": [
    "The R-Squared Value 0.005 shows this model being completely useless.  The distance is the only independent variable with a P-value below a benchmark 5%, making it statistically significant relative to this model.  However, the correlation found between distance and free_bikes during EDA shows a very low positive correlation. Additionally, the linear relationship assumption was not met for any variables, so this model does not have practical use."
   ]
  },
  {
   "cell_type": "markdown",
   "metadata": {},
   "source": [
    "# Stretch"
   ]
  },
  {
   "cell_type": "markdown",
   "metadata": {},
   "source": [
    "How can you turn the regression model into a classification model?"
   ]
  },
  {
   "cell_type": "code",
   "execution_count": null,
   "metadata": {},
   "outputs": [],
   "source": []
  }
 ],
 "metadata": {
  "kernelspec": {
   "display_name": "Python 3",
   "language": "python",
   "name": "python3"
  },
  "language_info": {
   "codemirror_mode": {
    "name": "ipython",
    "version": 3
   },
   "file_extension": ".py",
   "mimetype": "text/x-python",
   "name": "python",
   "nbconvert_exporter": "python",
   "pygments_lexer": "ipython3",
   "version": "3.8.13"
  }
 },
 "nbformat": 4,
 "nbformat_minor": 4
}
